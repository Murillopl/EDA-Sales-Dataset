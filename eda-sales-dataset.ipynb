{
 "cells": [
  {
   "cell_type": "code",
   "execution_count": 1,
   "id": "2d4997d0",
   "metadata": {
    "_cell_guid": "b1076dfc-b9ad-4769-8c92-a6c4dae69d19",
    "_uuid": "8f2839f25d086af736a60e9eeb907d3b93b6e0e5",
    "execution": {
     "iopub.execute_input": "2025-02-19T19:44:48.105378Z",
     "iopub.status.busy": "2025-02-19T19:44:48.104994Z",
     "iopub.status.idle": "2025-02-19T19:44:48.985119Z",
     "shell.execute_reply": "2025-02-19T19:44:48.983758Z"
    },
    "papermill": {
     "duration": 0.890692,
     "end_time": "2025-02-19T19:44:48.986996",
     "exception": false,
     "start_time": "2025-02-19T19:44:48.096304",
     "status": "completed"
    },
    "tags": []
   },
   "outputs": [
    {
     "name": "stdout",
     "output_type": "stream",
     "text": [
      "/kaggle/input/sales-dataset/sales_data.csv\n"
     ]
    }
   ],
   "source": [
    "# This Python 3 environment comes with many helpful analytics libraries installed\n",
    "# It is defined by the kaggle/python Docker image: https://github.com/kaggle/docker-python\n",
    "# For example, here's several helpful packages to load\n",
    "\n",
    "import numpy as np # linear algebra\n",
    "import pandas as pd # data processing, CSV file I/O (e.g. pd.read_csv)\n",
    "\n",
    "# Input data files are available in the read-only \"../input/\" directory\n",
    "# For example, running this (by clicking run or pressing Shift+Enter) will list all files under the input directory\n",
    "\n",
    "import os\n",
    "for dirname, _, filenames in os.walk('/kaggle/input'):\n",
    "    for filename in filenames:\n",
    "        print(os.path.join(dirname, filename))\n",
    "\n",
    "# You can write up to 20GB to the current directory (/kaggle/working/) that gets preserved as output when you create a version using \"Save & Run All\" \n",
    "# You can also write temporary files to /kaggle/temp/, but they won't be saved outside of the current session"
   ]
  },
  {
   "cell_type": "markdown",
   "id": "41934b3b",
   "metadata": {
    "execution": {
     "iopub.execute_input": "2025-02-19T18:46:03.234524Z",
     "iopub.status.busy": "2025-02-19T18:46:03.234169Z",
     "iopub.status.idle": "2025-02-19T18:46:03.238770Z",
     "shell.execute_reply": "2025-02-19T18:46:03.237590Z",
     "shell.execute_reply.started": "2025-02-19T18:46:03.234498Z"
    },
    "papermill": {
     "duration": 0.004706,
     "end_time": "2025-02-19T19:44:48.997811",
     "exception": false,
     "start_time": "2025-02-19T19:44:48.993105",
     "status": "completed"
    },
    "tags": []
   },
   "source": [
    "## Sales Dataset"
   ]
  },
  {
   "cell_type": "markdown",
   "id": "94605c04",
   "metadata": {
    "papermill": {
     "duration": 0.004672,
     "end_time": "2025-02-19T19:44:49.007548",
     "exception": false,
     "start_time": "2025-02-19T19:44:49.002876",
     "status": "completed"
    },
    "tags": []
   },
   "source": [
    "- Problem statement\n",
    "- Data Collection\n",
    "- Data Checks to perform\n",
    "- Exploratory data analysis\n",
    "- Data Pre-Processing"
   ]
  },
  {
   "cell_type": "markdown",
   "id": "c9c7e245",
   "metadata": {
    "execution": {
     "iopub.execute_input": "2025-02-19T18:47:59.034147Z",
     "iopub.status.busy": "2025-02-19T18:47:59.033684Z",
     "iopub.status.idle": "2025-02-19T18:47:59.039253Z",
     "shell.execute_reply": "2025-02-19T18:47:59.037526Z",
     "shell.execute_reply.started": "2025-02-19T18:47:59.034114Z"
    },
    "papermill": {
     "duration": 0.004653,
     "end_time": "2025-02-19T19:44:49.017128",
     "exception": false,
     "start_time": "2025-02-19T19:44:49.012475",
     "status": "completed"
    },
    "tags": []
   },
   "source": [
    "### 1)Problem Statement\n",
    "- The dataset contains information that simulates sales transactions across different products, regions, and customers. Each row represents an individual sale event with various details associated with it.\n",
    "\n",
    "### 2) Data Collection\n",
    "- Dataset Source - https://www.kaggle.com/datasets/vinothkannaece/sales-dataset/data\n",
    "- The data consists of 14 columns and 1000 rows."
   ]
  },
  {
   "cell_type": "code",
   "execution_count": 2,
   "id": "6c15c056",
   "metadata": {
    "execution": {
     "iopub.execute_input": "2025-02-19T19:44:49.028351Z",
     "iopub.status.busy": "2025-02-19T19:44:49.027920Z",
     "iopub.status.idle": "2025-02-19T19:44:49.057819Z",
     "shell.execute_reply": "2025-02-19T19:44:49.056336Z"
    },
    "papermill": {
     "duration": 0.037679,
     "end_time": "2025-02-19T19:44:49.059730",
     "exception": false,
     "start_time": "2025-02-19T19:44:49.022051",
     "status": "completed"
    },
    "tags": []
   },
   "outputs": [],
   "source": [
    "df = pd.read_csv('/kaggle/input/sales-dataset/sales_data.csv')"
   ]
  },
  {
   "cell_type": "code",
   "execution_count": 3,
   "id": "a82dfb56",
   "metadata": {
    "execution": {
     "iopub.execute_input": "2025-02-19T19:44:49.072008Z",
     "iopub.status.busy": "2025-02-19T19:44:49.071596Z",
     "iopub.status.idle": "2025-02-19T19:44:49.099342Z",
     "shell.execute_reply": "2025-02-19T19:44:49.097313Z"
    },
    "papermill": {
     "duration": 0.035701,
     "end_time": "2025-02-19T19:44:49.101071",
     "exception": false,
     "start_time": "2025-02-19T19:44:49.065370",
     "status": "completed"
    },
    "tags": []
   },
   "outputs": [
    {
     "data": {
      "text/html": [
       "<div>\n",
       "<style scoped>\n",
       "    .dataframe tbody tr th:only-of-type {\n",
       "        vertical-align: middle;\n",
       "    }\n",
       "\n",
       "    .dataframe tbody tr th {\n",
       "        vertical-align: top;\n",
       "    }\n",
       "\n",
       "    .dataframe thead th {\n",
       "        text-align: right;\n",
       "    }\n",
       "</style>\n",
       "<table border=\"1\" class=\"dataframe\">\n",
       "  <thead>\n",
       "    <tr style=\"text-align: right;\">\n",
       "      <th></th>\n",
       "      <th>Product_ID</th>\n",
       "      <th>Sale_Date</th>\n",
       "      <th>Sales_Rep</th>\n",
       "      <th>Region</th>\n",
       "      <th>Sales_Amount</th>\n",
       "      <th>Quantity_Sold</th>\n",
       "      <th>Product_Category</th>\n",
       "      <th>Unit_Cost</th>\n",
       "      <th>Unit_Price</th>\n",
       "      <th>Customer_Type</th>\n",
       "      <th>Discount</th>\n",
       "      <th>Payment_Method</th>\n",
       "      <th>Sales_Channel</th>\n",
       "      <th>Region_and_Sales_Rep</th>\n",
       "    </tr>\n",
       "  </thead>\n",
       "  <tbody>\n",
       "    <tr>\n",
       "      <th>0</th>\n",
       "      <td>1052</td>\n",
       "      <td>2023-02-03</td>\n",
       "      <td>Bob</td>\n",
       "      <td>North</td>\n",
       "      <td>5053.97</td>\n",
       "      <td>18</td>\n",
       "      <td>Furniture</td>\n",
       "      <td>152.75</td>\n",
       "      <td>267.22</td>\n",
       "      <td>Returning</td>\n",
       "      <td>0.09</td>\n",
       "      <td>Cash</td>\n",
       "      <td>Online</td>\n",
       "      <td>North-Bob</td>\n",
       "    </tr>\n",
       "    <tr>\n",
       "      <th>1</th>\n",
       "      <td>1093</td>\n",
       "      <td>2023-04-21</td>\n",
       "      <td>Bob</td>\n",
       "      <td>West</td>\n",
       "      <td>4384.02</td>\n",
       "      <td>17</td>\n",
       "      <td>Furniture</td>\n",
       "      <td>3816.39</td>\n",
       "      <td>4209.44</td>\n",
       "      <td>Returning</td>\n",
       "      <td>0.11</td>\n",
       "      <td>Cash</td>\n",
       "      <td>Retail</td>\n",
       "      <td>West-Bob</td>\n",
       "    </tr>\n",
       "    <tr>\n",
       "      <th>2</th>\n",
       "      <td>1015</td>\n",
       "      <td>2023-09-21</td>\n",
       "      <td>David</td>\n",
       "      <td>South</td>\n",
       "      <td>4631.23</td>\n",
       "      <td>30</td>\n",
       "      <td>Food</td>\n",
       "      <td>261.56</td>\n",
       "      <td>371.40</td>\n",
       "      <td>Returning</td>\n",
       "      <td>0.20</td>\n",
       "      <td>Bank Transfer</td>\n",
       "      <td>Retail</td>\n",
       "      <td>South-David</td>\n",
       "    </tr>\n",
       "    <tr>\n",
       "      <th>3</th>\n",
       "      <td>1072</td>\n",
       "      <td>2023-08-24</td>\n",
       "      <td>Bob</td>\n",
       "      <td>South</td>\n",
       "      <td>2167.94</td>\n",
       "      <td>39</td>\n",
       "      <td>Clothing</td>\n",
       "      <td>4330.03</td>\n",
       "      <td>4467.75</td>\n",
       "      <td>New</td>\n",
       "      <td>0.02</td>\n",
       "      <td>Credit Card</td>\n",
       "      <td>Retail</td>\n",
       "      <td>South-Bob</td>\n",
       "    </tr>\n",
       "    <tr>\n",
       "      <th>4</th>\n",
       "      <td>1061</td>\n",
       "      <td>2023-03-24</td>\n",
       "      <td>Charlie</td>\n",
       "      <td>East</td>\n",
       "      <td>3750.20</td>\n",
       "      <td>13</td>\n",
       "      <td>Electronics</td>\n",
       "      <td>637.37</td>\n",
       "      <td>692.71</td>\n",
       "      <td>New</td>\n",
       "      <td>0.08</td>\n",
       "      <td>Credit Card</td>\n",
       "      <td>Online</td>\n",
       "      <td>East-Charlie</td>\n",
       "    </tr>\n",
       "  </tbody>\n",
       "</table>\n",
       "</div>"
      ],
      "text/plain": [
       "   Product_ID   Sale_Date Sales_Rep Region  Sales_Amount  Quantity_Sold  \\\n",
       "0        1052  2023-02-03       Bob  North       5053.97             18   \n",
       "1        1093  2023-04-21       Bob   West       4384.02             17   \n",
       "2        1015  2023-09-21     David  South       4631.23             30   \n",
       "3        1072  2023-08-24       Bob  South       2167.94             39   \n",
       "4        1061  2023-03-24   Charlie   East       3750.20             13   \n",
       "\n",
       "  Product_Category  Unit_Cost  Unit_Price Customer_Type  Discount  \\\n",
       "0        Furniture     152.75      267.22     Returning      0.09   \n",
       "1        Furniture    3816.39     4209.44     Returning      0.11   \n",
       "2             Food     261.56      371.40     Returning      0.20   \n",
       "3         Clothing    4330.03     4467.75           New      0.02   \n",
       "4      Electronics     637.37      692.71           New      0.08   \n",
       "\n",
       "  Payment_Method Sales_Channel Region_and_Sales_Rep  \n",
       "0           Cash        Online            North-Bob  \n",
       "1           Cash        Retail             West-Bob  \n",
       "2  Bank Transfer        Retail          South-David  \n",
       "3    Credit Card        Retail            South-Bob  \n",
       "4    Credit Card        Online         East-Charlie  "
      ]
     },
     "execution_count": 3,
     "metadata": {},
     "output_type": "execute_result"
    }
   ],
   "source": [
    "df.head()"
   ]
  },
  {
   "cell_type": "code",
   "execution_count": 4,
   "id": "1036477a",
   "metadata": {
    "execution": {
     "iopub.execute_input": "2025-02-19T19:44:49.113347Z",
     "iopub.status.busy": "2025-02-19T19:44:49.112995Z",
     "iopub.status.idle": "2025-02-19T19:44:49.122387Z",
     "shell.execute_reply": "2025-02-19T19:44:49.121657Z"
    },
    "papermill": {
     "duration": 0.01711,
     "end_time": "2025-02-19T19:44:49.123991",
     "exception": false,
     "start_time": "2025-02-19T19:44:49.106881",
     "status": "completed"
    },
    "tags": []
   },
   "outputs": [
    {
     "data": {
      "text/plain": [
       "Product_ID              0\n",
       "Sale_Date               0\n",
       "Sales_Rep               0\n",
       "Region                  0\n",
       "Sales_Amount            0\n",
       "Quantity_Sold           0\n",
       "Product_Category        0\n",
       "Unit_Cost               0\n",
       "Unit_Price              0\n",
       "Customer_Type           0\n",
       "Discount                0\n",
       "Payment_Method          0\n",
       "Sales_Channel           0\n",
       "Region_and_Sales_Rep    0\n",
       "dtype: int64"
      ]
     },
     "execution_count": 4,
     "metadata": {},
     "output_type": "execute_result"
    }
   ],
   "source": [
    "df.isna().sum()"
   ]
  },
  {
   "cell_type": "code",
   "execution_count": 5,
   "id": "0c0104fe",
   "metadata": {
    "execution": {
     "iopub.execute_input": "2025-02-19T19:44:49.136597Z",
     "iopub.status.busy": "2025-02-19T19:44:49.135922Z",
     "iopub.status.idle": "2025-02-19T19:44:49.152075Z",
     "shell.execute_reply": "2025-02-19T19:44:49.150858Z"
    },
    "papermill": {
     "duration": 0.023636,
     "end_time": "2025-02-19T19:44:49.153576",
     "exception": false,
     "start_time": "2025-02-19T19:44:49.129940",
     "status": "completed"
    },
    "tags": []
   },
   "outputs": [
    {
     "data": {
      "text/plain": [
       "0"
      ]
     },
     "execution_count": 5,
     "metadata": {},
     "output_type": "execute_result"
    }
   ],
   "source": [
    "df.duplicated().sum()"
   ]
  },
  {
   "cell_type": "code",
   "execution_count": 6,
   "id": "c5c73b73",
   "metadata": {
    "execution": {
     "iopub.execute_input": "2025-02-19T19:44:49.167098Z",
     "iopub.status.busy": "2025-02-19T19:44:49.166651Z",
     "iopub.status.idle": "2025-02-19T19:44:49.186175Z",
     "shell.execute_reply": "2025-02-19T19:44:49.185022Z"
    },
    "papermill": {
     "duration": 0.028227,
     "end_time": "2025-02-19T19:44:49.188089",
     "exception": false,
     "start_time": "2025-02-19T19:44:49.159862",
     "status": "completed"
    },
    "tags": []
   },
   "outputs": [
    {
     "name": "stdout",
     "output_type": "stream",
     "text": [
      "<class 'pandas.core.frame.DataFrame'>\n",
      "RangeIndex: 1000 entries, 0 to 999\n",
      "Data columns (total 14 columns):\n",
      " #   Column                Non-Null Count  Dtype  \n",
      "---  ------                --------------  -----  \n",
      " 0   Product_ID            1000 non-null   int64  \n",
      " 1   Sale_Date             1000 non-null   object \n",
      " 2   Sales_Rep             1000 non-null   object \n",
      " 3   Region                1000 non-null   object \n",
      " 4   Sales_Amount          1000 non-null   float64\n",
      " 5   Quantity_Sold         1000 non-null   int64  \n",
      " 6   Product_Category      1000 non-null   object \n",
      " 7   Unit_Cost             1000 non-null   float64\n",
      " 8   Unit_Price            1000 non-null   float64\n",
      " 9   Customer_Type         1000 non-null   object \n",
      " 10  Discount              1000 non-null   float64\n",
      " 11  Payment_Method        1000 non-null   object \n",
      " 12  Sales_Channel         1000 non-null   object \n",
      " 13  Region_and_Sales_Rep  1000 non-null   object \n",
      "dtypes: float64(4), int64(2), object(8)\n",
      "memory usage: 109.5+ KB\n"
     ]
    }
   ],
   "source": [
    "df.info()"
   ]
  },
  {
   "cell_type": "code",
   "execution_count": 7,
   "id": "898dad25",
   "metadata": {
    "execution": {
     "iopub.execute_input": "2025-02-19T19:44:49.201834Z",
     "iopub.status.busy": "2025-02-19T19:44:49.201424Z",
     "iopub.status.idle": "2025-02-19T19:44:49.209815Z",
     "shell.execute_reply": "2025-02-19T19:44:49.209068Z"
    },
    "papermill": {
     "duration": 0.01633,
     "end_time": "2025-02-19T19:44:49.211230",
     "exception": false,
     "start_time": "2025-02-19T19:44:49.194900",
     "status": "completed"
    },
    "tags": []
   },
   "outputs": [
    {
     "data": {
      "text/plain": [
       "Product_ID               100\n",
       "Sale_Date                340\n",
       "Sales_Rep                  5\n",
       "Region                     4\n",
       "Sales_Amount             998\n",
       "Quantity_Sold             49\n",
       "Product_Category           4\n",
       "Unit_Cost                998\n",
       "Unit_Price              1000\n",
       "Customer_Type              2\n",
       "Discount                  31\n",
       "Payment_Method             3\n",
       "Sales_Channel              2\n",
       "Region_and_Sales_Rep      20\n",
       "dtype: int64"
      ]
     },
     "execution_count": 7,
     "metadata": {},
     "output_type": "execute_result"
    }
   ],
   "source": [
    "df.nunique()"
   ]
  },
  {
   "cell_type": "code",
   "execution_count": 8,
   "id": "12966c84",
   "metadata": {
    "execution": {
     "iopub.execute_input": "2025-02-19T19:44:49.224787Z",
     "iopub.status.busy": "2025-02-19T19:44:49.224387Z",
     "iopub.status.idle": "2025-02-19T19:44:49.249397Z",
     "shell.execute_reply": "2025-02-19T19:44:49.248336Z"
    },
    "papermill": {
     "duration": 0.03292,
     "end_time": "2025-02-19T19:44:49.250845",
     "exception": false,
     "start_time": "2025-02-19T19:44:49.217925",
     "status": "completed"
    },
    "tags": []
   },
   "outputs": [
    {
     "data": {
      "text/html": [
       "<div>\n",
       "<style scoped>\n",
       "    .dataframe tbody tr th:only-of-type {\n",
       "        vertical-align: middle;\n",
       "    }\n",
       "\n",
       "    .dataframe tbody tr th {\n",
       "        vertical-align: top;\n",
       "    }\n",
       "\n",
       "    .dataframe thead th {\n",
       "        text-align: right;\n",
       "    }\n",
       "</style>\n",
       "<table border=\"1\" class=\"dataframe\">\n",
       "  <thead>\n",
       "    <tr style=\"text-align: right;\">\n",
       "      <th></th>\n",
       "      <th>Product_ID</th>\n",
       "      <th>Sales_Amount</th>\n",
       "      <th>Quantity_Sold</th>\n",
       "      <th>Unit_Cost</th>\n",
       "      <th>Unit_Price</th>\n",
       "      <th>Discount</th>\n",
       "    </tr>\n",
       "  </thead>\n",
       "  <tbody>\n",
       "    <tr>\n",
       "      <th>count</th>\n",
       "      <td>1000.000000</td>\n",
       "      <td>1000.000000</td>\n",
       "      <td>1000.000000</td>\n",
       "      <td>1000.000000</td>\n",
       "      <td>1000.000000</td>\n",
       "      <td>1000.00000</td>\n",
       "    </tr>\n",
       "    <tr>\n",
       "      <th>mean</th>\n",
       "      <td>1050.128000</td>\n",
       "      <td>5019.265230</td>\n",
       "      <td>25.355000</td>\n",
       "      <td>2475.304550</td>\n",
       "      <td>2728.440120</td>\n",
       "      <td>0.15239</td>\n",
       "    </tr>\n",
       "    <tr>\n",
       "      <th>std</th>\n",
       "      <td>29.573505</td>\n",
       "      <td>2846.790126</td>\n",
       "      <td>14.159006</td>\n",
       "      <td>1417.872546</td>\n",
       "      <td>1419.399839</td>\n",
       "      <td>0.08720</td>\n",
       "    </tr>\n",
       "    <tr>\n",
       "      <th>min</th>\n",
       "      <td>1001.000000</td>\n",
       "      <td>100.120000</td>\n",
       "      <td>1.000000</td>\n",
       "      <td>60.280000</td>\n",
       "      <td>167.120000</td>\n",
       "      <td>0.00000</td>\n",
       "    </tr>\n",
       "    <tr>\n",
       "      <th>25%</th>\n",
       "      <td>1024.000000</td>\n",
       "      <td>2550.297500</td>\n",
       "      <td>13.000000</td>\n",
       "      <td>1238.380000</td>\n",
       "      <td>1509.085000</td>\n",
       "      <td>0.08000</td>\n",
       "    </tr>\n",
       "    <tr>\n",
       "      <th>50%</th>\n",
       "      <td>1051.000000</td>\n",
       "      <td>5019.300000</td>\n",
       "      <td>25.000000</td>\n",
       "      <td>2467.235000</td>\n",
       "      <td>2696.400000</td>\n",
       "      <td>0.15000</td>\n",
       "    </tr>\n",
       "    <tr>\n",
       "      <th>75%</th>\n",
       "      <td>1075.000000</td>\n",
       "      <td>7507.445000</td>\n",
       "      <td>38.000000</td>\n",
       "      <td>3702.865000</td>\n",
       "      <td>3957.970000</td>\n",
       "      <td>0.23000</td>\n",
       "    </tr>\n",
       "    <tr>\n",
       "      <th>max</th>\n",
       "      <td>1100.000000</td>\n",
       "      <td>9989.040000</td>\n",
       "      <td>49.000000</td>\n",
       "      <td>4995.300000</td>\n",
       "      <td>5442.150000</td>\n",
       "      <td>0.30000</td>\n",
       "    </tr>\n",
       "  </tbody>\n",
       "</table>\n",
       "</div>"
      ],
      "text/plain": [
       "        Product_ID  Sales_Amount  Quantity_Sold    Unit_Cost   Unit_Price  \\\n",
       "count  1000.000000   1000.000000    1000.000000  1000.000000  1000.000000   \n",
       "mean   1050.128000   5019.265230      25.355000  2475.304550  2728.440120   \n",
       "std      29.573505   2846.790126      14.159006  1417.872546  1419.399839   \n",
       "min    1001.000000    100.120000       1.000000    60.280000   167.120000   \n",
       "25%    1024.000000   2550.297500      13.000000  1238.380000  1509.085000   \n",
       "50%    1051.000000   5019.300000      25.000000  2467.235000  2696.400000   \n",
       "75%    1075.000000   7507.445000      38.000000  3702.865000  3957.970000   \n",
       "max    1100.000000   9989.040000      49.000000  4995.300000  5442.150000   \n",
       "\n",
       "         Discount  \n",
       "count  1000.00000  \n",
       "mean      0.15239  \n",
       "std       0.08720  \n",
       "min       0.00000  \n",
       "25%       0.08000  \n",
       "50%       0.15000  \n",
       "75%       0.23000  \n",
       "max       0.30000  "
      ]
     },
     "execution_count": 8,
     "metadata": {},
     "output_type": "execute_result"
    }
   ],
   "source": [
    "df.describe()"
   ]
  },
  {
   "cell_type": "code",
   "execution_count": 9,
   "id": "8b4914df",
   "metadata": {
    "execution": {
     "iopub.execute_input": "2025-02-19T19:44:49.264768Z",
     "iopub.status.busy": "2025-02-19T19:44:49.264335Z",
     "iopub.status.idle": "2025-02-19T19:44:49.272272Z",
     "shell.execute_reply": "2025-02-19T19:44:49.270947Z"
    },
    "papermill": {
     "duration": 0.017037,
     "end_time": "2025-02-19T19:44:49.274173",
     "exception": false,
     "start_time": "2025-02-19T19:44:49.257136",
     "status": "completed"
    },
    "tags": []
   },
   "outputs": [
    {
     "name": "stdout",
     "output_type": "stream",
     "text": [
      "Categories in 'region' variable:      ['North' 'West' 'South' 'East']\n",
      "Categories in 'Product_Category' variable:      ['Furniture' 'Food' 'Clothing' 'Electronics']\n",
      "Categories in 'Customer_Type' variable:      ['Returning' 'New']\n",
      "Categories in 'Payment_Method' variable:      ['Cash' 'Bank Transfer' 'Credit Card']\n",
      "Categories in 'Sales_Channel' variable:      ['Online' 'Retail']\n"
     ]
    }
   ],
   "source": [
    "print(\"Categories in 'region' variable:     \",end=\" \" )\n",
    "print(df['Region'].unique())\n",
    "\n",
    "print(\"Categories in 'Product_Category' variable:     \",end=\" \" )\n",
    "print(df['Product_Category'].unique())\n",
    "\n",
    "print(\"Categories in 'Customer_Type' variable:     \",end=\" \" )\n",
    "print(df['Customer_Type'].unique())\n",
    "\n",
    "print(\"Categories in 'Payment_Method' variable:     \",end=\" \" )\n",
    "print(df['Payment_Method'].unique())\n",
    "\n",
    "print(\"Categories in 'Sales_Channel' variable:     \",end=\" \" )\n",
    "print(df['Sales_Channel'].unique())"
   ]
  },
  {
   "cell_type": "code",
   "execution_count": 10,
   "id": "fd959a9c",
   "metadata": {
    "execution": {
     "iopub.execute_input": "2025-02-19T19:44:49.288187Z",
     "iopub.status.busy": "2025-02-19T19:44:49.287699Z",
     "iopub.status.idle": "2025-02-19T19:44:49.294016Z",
     "shell.execute_reply": "2025-02-19T19:44:49.292823Z"
    },
    "papermill": {
     "duration": 0.015064,
     "end_time": "2025-02-19T19:44:49.295769",
     "exception": false,
     "start_time": "2025-02-19T19:44:49.280705",
     "status": "completed"
    },
    "tags": []
   },
   "outputs": [
    {
     "name": "stdout",
     "output_type": "stream",
     "text": [
      "We have 6 numerical features : ['Product_ID', 'Sales_Amount', 'Quantity_Sold', 'Unit_Cost', 'Unit_Price', 'Discount']\n",
      "\n",
      "We have 8 categorical features : ['Sale_Date', 'Sales_Rep', 'Region', 'Product_Category', 'Customer_Type', 'Payment_Method', 'Sales_Channel', 'Region_and_Sales_Rep']\n"
     ]
    }
   ],
   "source": [
    "numeric_features = [feature for feature in df.columns if df[feature].dtype != 'O']\n",
    "categorical_features = [feature for feature in df.columns if df[feature].dtype == 'O']\n",
    "\n",
    "# print columns\n",
    "print('We have {} numerical features : {}'.format(len(numeric_features), numeric_features))\n",
    "print('\\nWe have {} categorical features : {}'.format(len(categorical_features), categorical_features))"
   ]
  },
  {
   "cell_type": "code",
   "execution_count": 11,
   "id": "6f496867",
   "metadata": {
    "execution": {
     "iopub.execute_input": "2025-02-19T19:44:49.310574Z",
     "iopub.status.busy": "2025-02-19T19:44:49.310027Z",
     "iopub.status.idle": "2025-02-19T19:44:49.325104Z",
     "shell.execute_reply": "2025-02-19T19:44:49.323216Z"
    },
    "papermill": {
     "duration": 0.02392,
     "end_time": "2025-02-19T19:44:49.326701",
     "exception": false,
     "start_time": "2025-02-19T19:44:49.302781",
     "status": "completed"
    },
    "tags": []
   },
   "outputs": [
    {
     "data": {
      "text/html": [
       "<div>\n",
       "<style scoped>\n",
       "    .dataframe tbody tr th:only-of-type {\n",
       "        vertical-align: middle;\n",
       "    }\n",
       "\n",
       "    .dataframe tbody tr th {\n",
       "        vertical-align: top;\n",
       "    }\n",
       "\n",
       "    .dataframe thead th {\n",
       "        text-align: right;\n",
       "    }\n",
       "</style>\n",
       "<table border=\"1\" class=\"dataframe\">\n",
       "  <thead>\n",
       "    <tr style=\"text-align: right;\">\n",
       "      <th></th>\n",
       "      <th>Product_ID</th>\n",
       "      <th>Sale_Date</th>\n",
       "      <th>Sales_Rep</th>\n",
       "      <th>Region</th>\n",
       "      <th>Sales_Amount</th>\n",
       "      <th>Quantity_Sold</th>\n",
       "      <th>Product_Category</th>\n",
       "      <th>Unit_Cost</th>\n",
       "      <th>Unit_Price</th>\n",
       "      <th>Customer_Type</th>\n",
       "      <th>Discount</th>\n",
       "      <th>Payment_Method</th>\n",
       "      <th>Sales_Channel</th>\n",
       "      <th>Region_and_Sales_Rep</th>\n",
       "    </tr>\n",
       "  </thead>\n",
       "  <tbody>\n",
       "    <tr>\n",
       "      <th>0</th>\n",
       "      <td>1052</td>\n",
       "      <td>2023-02-03</td>\n",
       "      <td>Bob</td>\n",
       "      <td>North</td>\n",
       "      <td>5053.97</td>\n",
       "      <td>18</td>\n",
       "      <td>Furniture</td>\n",
       "      <td>152.75</td>\n",
       "      <td>267.22</td>\n",
       "      <td>Returning</td>\n",
       "      <td>0.09</td>\n",
       "      <td>Cash</td>\n",
       "      <td>Online</td>\n",
       "      <td>North-Bob</td>\n",
       "    </tr>\n",
       "    <tr>\n",
       "      <th>1</th>\n",
       "      <td>1093</td>\n",
       "      <td>2023-04-21</td>\n",
       "      <td>Bob</td>\n",
       "      <td>West</td>\n",
       "      <td>4384.02</td>\n",
       "      <td>17</td>\n",
       "      <td>Furniture</td>\n",
       "      <td>3816.39</td>\n",
       "      <td>4209.44</td>\n",
       "      <td>Returning</td>\n",
       "      <td>0.11</td>\n",
       "      <td>Cash</td>\n",
       "      <td>Retail</td>\n",
       "      <td>West-Bob</td>\n",
       "    </tr>\n",
       "    <tr>\n",
       "      <th>2</th>\n",
       "      <td>1015</td>\n",
       "      <td>2023-09-21</td>\n",
       "      <td>David</td>\n",
       "      <td>South</td>\n",
       "      <td>4631.23</td>\n",
       "      <td>30</td>\n",
       "      <td>Food</td>\n",
       "      <td>261.56</td>\n",
       "      <td>371.40</td>\n",
       "      <td>Returning</td>\n",
       "      <td>0.20</td>\n",
       "      <td>Bank Transfer</td>\n",
       "      <td>Retail</td>\n",
       "      <td>South-David</td>\n",
       "    </tr>\n",
       "    <tr>\n",
       "      <th>3</th>\n",
       "      <td>1072</td>\n",
       "      <td>2023-08-24</td>\n",
       "      <td>Bob</td>\n",
       "      <td>South</td>\n",
       "      <td>2167.94</td>\n",
       "      <td>39</td>\n",
       "      <td>Clothing</td>\n",
       "      <td>4330.03</td>\n",
       "      <td>4467.75</td>\n",
       "      <td>New</td>\n",
       "      <td>0.02</td>\n",
       "      <td>Credit Card</td>\n",
       "      <td>Retail</td>\n",
       "      <td>South-Bob</td>\n",
       "    </tr>\n",
       "    <tr>\n",
       "      <th>4</th>\n",
       "      <td>1061</td>\n",
       "      <td>2023-03-24</td>\n",
       "      <td>Charlie</td>\n",
       "      <td>East</td>\n",
       "      <td>3750.20</td>\n",
       "      <td>13</td>\n",
       "      <td>Electronics</td>\n",
       "      <td>637.37</td>\n",
       "      <td>692.71</td>\n",
       "      <td>New</td>\n",
       "      <td>0.08</td>\n",
       "      <td>Credit Card</td>\n",
       "      <td>Online</td>\n",
       "      <td>East-Charlie</td>\n",
       "    </tr>\n",
       "  </tbody>\n",
       "</table>\n",
       "</div>"
      ],
      "text/plain": [
       "   Product_ID   Sale_Date Sales_Rep Region  Sales_Amount  Quantity_Sold  \\\n",
       "0        1052  2023-02-03       Bob  North       5053.97             18   \n",
       "1        1093  2023-04-21       Bob   West       4384.02             17   \n",
       "2        1015  2023-09-21     David  South       4631.23             30   \n",
       "3        1072  2023-08-24       Bob  South       2167.94             39   \n",
       "4        1061  2023-03-24   Charlie   East       3750.20             13   \n",
       "\n",
       "  Product_Category  Unit_Cost  Unit_Price Customer_Type  Discount  \\\n",
       "0        Furniture     152.75      267.22     Returning      0.09   \n",
       "1        Furniture    3816.39     4209.44     Returning      0.11   \n",
       "2             Food     261.56      371.40     Returning      0.20   \n",
       "3         Clothing    4330.03     4467.75           New      0.02   \n",
       "4      Electronics     637.37      692.71           New      0.08   \n",
       "\n",
       "  Payment_Method Sales_Channel Region_and_Sales_Rep  \n",
       "0           Cash        Online            North-Bob  \n",
       "1           Cash        Retail             West-Bob  \n",
       "2  Bank Transfer        Retail          South-David  \n",
       "3    Credit Card        Retail            South-Bob  \n",
       "4    Credit Card        Online         East-Charlie  "
      ]
     },
     "execution_count": 11,
     "metadata": {},
     "output_type": "execute_result"
    }
   ],
   "source": [
    "df.head()"
   ]
  },
  {
   "cell_type": "code",
   "execution_count": 12,
   "id": "6c6ad8e2",
   "metadata": {
    "execution": {
     "iopub.execute_input": "2025-02-19T19:44:49.340625Z",
     "iopub.status.busy": "2025-02-19T19:44:49.340163Z",
     "iopub.status.idle": "2025-02-19T19:44:49.350391Z",
     "shell.execute_reply": "2025-02-19T19:44:49.349168Z"
    },
    "papermill": {
     "duration": 0.019049,
     "end_time": "2025-02-19T19:44:49.352115",
     "exception": false,
     "start_time": "2025-02-19T19:44:49.333066",
     "status": "completed"
    },
    "tags": []
   },
   "outputs": [
    {
     "name": "stdout",
     "output_type": "stream",
     "text": [
      "Sales_Rep\n",
      "David      222\n",
      "Eve        209\n",
      "Bob        208\n",
      "Alice      192\n",
      "Charlie    169\n",
      "Name: count, dtype: int64\n",
      "----------\n",
      "Region\n",
      "North    267\n",
      "East     263\n",
      "West     244\n",
      "South    226\n",
      "Name: count, dtype: int64\n",
      "----------\n",
      "Region_and_Sales_Rep\n",
      "North-Eve        64\n",
      "East-Bob         60\n",
      "East-David       59\n",
      "South-David      56\n",
      "North-David      56\n",
      "North-Charlie    55\n",
      "East-Eve         55\n",
      "West-Bob         54\n",
      "East-Alice       52\n",
      "West-David       51\n",
      "South-Bob        50\n",
      "North-Alice      48\n",
      "West-Alice       47\n",
      "West-Eve         47\n",
      "West-Charlie     45\n",
      "South-Alice      45\n",
      "North-Bob        44\n",
      "South-Eve        43\n",
      "East-Charlie     37\n",
      "South-Charlie    32\n",
      "Name: count, dtype: int64\n",
      "----------\n",
      "['North-Bob' 'West-Bob' 'South-David' 'South-Bob' 'East-Charlie'\n",
      " 'West-Charlie' 'South-Eve' 'North-Eve' 'West-Eve' 'South-Alice'\n",
      " 'South-Charlie' 'North-David' 'East-Bob' 'West-David' 'East-Eve'\n",
      " 'North-Alice' 'East-David' 'West-Alice' 'East-Alice' 'North-Charlie']\n"
     ]
    }
   ],
   "source": [
    "print(df[\"Sales_Rep\"].value_counts())\n",
    "print('-'* 10)\n",
    "print(df[\"Region\"].value_counts())\n",
    "print('-'* 10)\n",
    "print(df[\"Region_and_Sales_Rep\"].value_counts())\n",
    "print('-'* 10)\n",
    "print(df[\"Region_and_Sales_Rep\"].unique())\n"
   ]
  },
  {
   "cell_type": "code",
   "execution_count": 13,
   "id": "5b38f056",
   "metadata": {
    "execution": {
     "iopub.execute_input": "2025-02-19T19:44:49.365762Z",
     "iopub.status.busy": "2025-02-19T19:44:49.365299Z",
     "iopub.status.idle": "2025-02-19T19:44:49.377471Z",
     "shell.execute_reply": "2025-02-19T19:44:49.376438Z"
    },
    "papermill": {
     "duration": 0.020637,
     "end_time": "2025-02-19T19:44:49.378890",
     "exception": false,
     "start_time": "2025-02-19T19:44:49.358253",
     "status": "completed"
    },
    "tags": []
   },
   "outputs": [
    {
     "data": {
      "text/plain": [
       "Sales_Rep\n",
       "David      1141737.36\n",
       "Bob        1080990.63\n",
       "Eve         970183.99\n",
       "Alice       965541.77\n",
       "Charlie     860811.48\n",
       "Name: Sales_Amount, dtype: float64"
      ]
     },
     "execution_count": 13,
     "metadata": {},
     "output_type": "execute_result"
    }
   ],
   "source": [
    "df.groupby('Sales_Rep')['Sales_Amount'].sum().sort_values(ascending=False)"
   ]
  },
  {
   "cell_type": "code",
   "execution_count": 14,
   "id": "4cf66765",
   "metadata": {
    "execution": {
     "iopub.execute_input": "2025-02-19T19:44:49.392414Z",
     "iopub.status.busy": "2025-02-19T19:44:49.392004Z",
     "iopub.status.idle": "2025-02-19T19:44:49.401329Z",
     "shell.execute_reply": "2025-02-19T19:44:49.399592Z"
    },
    "papermill": {
     "duration": 0.018059,
     "end_time": "2025-02-19T19:44:49.403395",
     "exception": false,
     "start_time": "2025-02-19T19:44:49.385336",
     "status": "completed"
    },
    "tags": []
   },
   "outputs": [
    {
     "data": {
      "text/plain": [
       "Region\n",
       "North    1369612.51\n",
       "East     1259792.93\n",
       "West     1235608.93\n",
       "South    1154250.86\n",
       "Name: Sales_Amount, dtype: float64"
      ]
     },
     "execution_count": 14,
     "metadata": {},
     "output_type": "execute_result"
    }
   ],
   "source": [
    "df.groupby('Region')['Sales_Amount'].sum().sort_values(ascending=False)"
   ]
  },
  {
   "cell_type": "markdown",
   "id": "3fa7dca4",
   "metadata": {
    "papermill": {
     "duration": 0.005402,
     "end_time": "2025-02-19T19:44:49.415335",
     "exception": false,
     "start_time": "2025-02-19T19:44:49.409933",
     "status": "completed"
    },
    "tags": []
   },
   "source": [
    "#### Information from above\n",
    "- David is the seller who sold most products\n",
    "- North is the region that sold most products\n",
    "- Eve is the seller who sold most products in North  "
   ]
  },
  {
   "cell_type": "code",
   "execution_count": 15,
   "id": "f5722745",
   "metadata": {
    "execution": {
     "iopub.execute_input": "2025-02-19T19:44:49.428564Z",
     "iopub.status.busy": "2025-02-19T19:44:49.428137Z",
     "iopub.status.idle": "2025-02-19T19:44:49.442966Z",
     "shell.execute_reply": "2025-02-19T19:44:49.441844Z"
    },
    "papermill": {
     "duration": 0.023364,
     "end_time": "2025-02-19T19:44:49.444385",
     "exception": false,
     "start_time": "2025-02-19T19:44:49.421021",
     "status": "completed"
    },
    "tags": []
   },
   "outputs": [
    {
     "data": {
      "text/html": [
       "<div>\n",
       "<style scoped>\n",
       "    .dataframe tbody tr th:only-of-type {\n",
       "        vertical-align: middle;\n",
       "    }\n",
       "\n",
       "    .dataframe tbody tr th {\n",
       "        vertical-align: top;\n",
       "    }\n",
       "\n",
       "    .dataframe thead th {\n",
       "        text-align: right;\n",
       "    }\n",
       "</style>\n",
       "<table border=\"1\" class=\"dataframe\">\n",
       "  <thead>\n",
       "    <tr style=\"text-align: right;\">\n",
       "      <th></th>\n",
       "      <th>Product_ID</th>\n",
       "      <th>Sale_Date</th>\n",
       "      <th>Sales_Rep</th>\n",
       "      <th>Region</th>\n",
       "      <th>Sales_Amount</th>\n",
       "      <th>Quantity_Sold</th>\n",
       "      <th>Product_Category</th>\n",
       "      <th>Unit_Cost</th>\n",
       "      <th>Unit_Price</th>\n",
       "      <th>Customer_Type</th>\n",
       "      <th>Discount</th>\n",
       "      <th>Payment_Method</th>\n",
       "      <th>Sales_Channel</th>\n",
       "      <th>Region_and_Sales_Rep</th>\n",
       "    </tr>\n",
       "  </thead>\n",
       "  <tbody>\n",
       "    <tr>\n",
       "      <th>0</th>\n",
       "      <td>1052</td>\n",
       "      <td>2023-02-03</td>\n",
       "      <td>Bob</td>\n",
       "      <td>North</td>\n",
       "      <td>5053.97</td>\n",
       "      <td>18</td>\n",
       "      <td>Furniture</td>\n",
       "      <td>152.75</td>\n",
       "      <td>267.22</td>\n",
       "      <td>Returning</td>\n",
       "      <td>0.09</td>\n",
       "      <td>Cash</td>\n",
       "      <td>Online</td>\n",
       "      <td>North-Bob</td>\n",
       "    </tr>\n",
       "    <tr>\n",
       "      <th>1</th>\n",
       "      <td>1093</td>\n",
       "      <td>2023-04-21</td>\n",
       "      <td>Bob</td>\n",
       "      <td>West</td>\n",
       "      <td>4384.02</td>\n",
       "      <td>17</td>\n",
       "      <td>Furniture</td>\n",
       "      <td>3816.39</td>\n",
       "      <td>4209.44</td>\n",
       "      <td>Returning</td>\n",
       "      <td>0.11</td>\n",
       "      <td>Cash</td>\n",
       "      <td>Retail</td>\n",
       "      <td>West-Bob</td>\n",
       "    </tr>\n",
       "    <tr>\n",
       "      <th>2</th>\n",
       "      <td>1015</td>\n",
       "      <td>2023-09-21</td>\n",
       "      <td>David</td>\n",
       "      <td>South</td>\n",
       "      <td>4631.23</td>\n",
       "      <td>30</td>\n",
       "      <td>Food</td>\n",
       "      <td>261.56</td>\n",
       "      <td>371.40</td>\n",
       "      <td>Returning</td>\n",
       "      <td>0.20</td>\n",
       "      <td>Bank Transfer</td>\n",
       "      <td>Retail</td>\n",
       "      <td>South-David</td>\n",
       "    </tr>\n",
       "    <tr>\n",
       "      <th>3</th>\n",
       "      <td>1072</td>\n",
       "      <td>2023-08-24</td>\n",
       "      <td>Bob</td>\n",
       "      <td>South</td>\n",
       "      <td>2167.94</td>\n",
       "      <td>39</td>\n",
       "      <td>Clothing</td>\n",
       "      <td>4330.03</td>\n",
       "      <td>4467.75</td>\n",
       "      <td>New</td>\n",
       "      <td>0.02</td>\n",
       "      <td>Credit Card</td>\n",
       "      <td>Retail</td>\n",
       "      <td>South-Bob</td>\n",
       "    </tr>\n",
       "    <tr>\n",
       "      <th>4</th>\n",
       "      <td>1061</td>\n",
       "      <td>2023-03-24</td>\n",
       "      <td>Charlie</td>\n",
       "      <td>East</td>\n",
       "      <td>3750.20</td>\n",
       "      <td>13</td>\n",
       "      <td>Electronics</td>\n",
       "      <td>637.37</td>\n",
       "      <td>692.71</td>\n",
       "      <td>New</td>\n",
       "      <td>0.08</td>\n",
       "      <td>Credit Card</td>\n",
       "      <td>Online</td>\n",
       "      <td>East-Charlie</td>\n",
       "    </tr>\n",
       "  </tbody>\n",
       "</table>\n",
       "</div>"
      ],
      "text/plain": [
       "   Product_ID   Sale_Date Sales_Rep Region  Sales_Amount  Quantity_Sold  \\\n",
       "0        1052  2023-02-03       Bob  North       5053.97             18   \n",
       "1        1093  2023-04-21       Bob   West       4384.02             17   \n",
       "2        1015  2023-09-21     David  South       4631.23             30   \n",
       "3        1072  2023-08-24       Bob  South       2167.94             39   \n",
       "4        1061  2023-03-24   Charlie   East       3750.20             13   \n",
       "\n",
       "  Product_Category  Unit_Cost  Unit_Price Customer_Type  Discount  \\\n",
       "0        Furniture     152.75      267.22     Returning      0.09   \n",
       "1        Furniture    3816.39     4209.44     Returning      0.11   \n",
       "2             Food     261.56      371.40     Returning      0.20   \n",
       "3         Clothing    4330.03     4467.75           New      0.02   \n",
       "4      Electronics     637.37      692.71           New      0.08   \n",
       "\n",
       "  Payment_Method Sales_Channel Region_and_Sales_Rep  \n",
       "0           Cash        Online            North-Bob  \n",
       "1           Cash        Retail             West-Bob  \n",
       "2  Bank Transfer        Retail          South-David  \n",
       "3    Credit Card        Retail            South-Bob  \n",
       "4    Credit Card        Online         East-Charlie  "
      ]
     },
     "execution_count": 15,
     "metadata": {},
     "output_type": "execute_result"
    }
   ],
   "source": [
    "df.head()"
   ]
  },
  {
   "cell_type": "code",
   "execution_count": 16,
   "id": "fbb6128e",
   "metadata": {
    "execution": {
     "iopub.execute_input": "2025-02-19T19:44:49.459393Z",
     "iopub.status.busy": "2025-02-19T19:44:49.458959Z",
     "iopub.status.idle": "2025-02-19T19:44:49.466955Z",
     "shell.execute_reply": "2025-02-19T19:44:49.465695Z"
    },
    "papermill": {
     "duration": 0.016955,
     "end_time": "2025-02-19T19:44:49.468331",
     "exception": false,
     "start_time": "2025-02-19T19:44:49.451376",
     "status": "completed"
    },
    "tags": []
   },
   "outputs": [
    {
     "data": {
      "text/plain": [
       "Product_Category\n",
       "Clothing       268\n",
       "Furniture      260\n",
       "Electronics    246\n",
       "Food           226\n",
       "Name: count, dtype: int64"
      ]
     },
     "execution_count": 16,
     "metadata": {},
     "output_type": "execute_result"
    }
   ],
   "source": [
    "df[\"Product_Category\"].value_counts()"
   ]
  },
  {
   "cell_type": "code",
   "execution_count": 17,
   "id": "a0ab48bb",
   "metadata": {
    "execution": {
     "iopub.execute_input": "2025-02-19T19:44:49.482870Z",
     "iopub.status.busy": "2025-02-19T19:44:49.482477Z",
     "iopub.status.idle": "2025-02-19T19:44:49.495729Z",
     "shell.execute_reply": "2025-02-19T19:44:49.494755Z"
    },
    "papermill": {
     "duration": 0.021774,
     "end_time": "2025-02-19T19:44:49.496936",
     "exception": false,
     "start_time": "2025-02-19T19:44:49.475162",
     "status": "completed"
    },
    "tags": []
   },
   "outputs": [
    {
     "data": {
      "text/html": [
       "<div>\n",
       "<style scoped>\n",
       "    .dataframe tbody tr th:only-of-type {\n",
       "        vertical-align: middle;\n",
       "    }\n",
       "\n",
       "    .dataframe tbody tr th {\n",
       "        vertical-align: top;\n",
       "    }\n",
       "\n",
       "    .dataframe thead th {\n",
       "        text-align: right;\n",
       "    }\n",
       "</style>\n",
       "<table border=\"1\" class=\"dataframe\">\n",
       "  <thead>\n",
       "    <tr style=\"text-align: right;\">\n",
       "      <th></th>\n",
       "      <th>Product_ID</th>\n",
       "      <th>Sale_Date</th>\n",
       "      <th>Sales_Rep</th>\n",
       "      <th>Region</th>\n",
       "      <th>Sales_Amount</th>\n",
       "      <th>Quantity_Sold</th>\n",
       "      <th>Product_Category</th>\n",
       "      <th>Unit_Cost</th>\n",
       "      <th>Unit_Price</th>\n",
       "      <th>Customer_Type</th>\n",
       "      <th>Discount</th>\n",
       "      <th>Payment_Method</th>\n",
       "      <th>Sales_Channel</th>\n",
       "      <th>Region_and_Sales_Rep</th>\n",
       "    </tr>\n",
       "  </thead>\n",
       "  <tbody>\n",
       "    <tr>\n",
       "      <th>0</th>\n",
       "      <td>1052</td>\n",
       "      <td>2023-02-03</td>\n",
       "      <td>Bob</td>\n",
       "      <td>North</td>\n",
       "      <td>5053.97</td>\n",
       "      <td>18</td>\n",
       "      <td>Furniture</td>\n",
       "      <td>152.75</td>\n",
       "      <td>267.22</td>\n",
       "      <td>Returning</td>\n",
       "      <td>0.09</td>\n",
       "      <td>Cash</td>\n",
       "      <td>Online</td>\n",
       "      <td>North-Bob</td>\n",
       "    </tr>\n",
       "    <tr>\n",
       "      <th>1</th>\n",
       "      <td>1093</td>\n",
       "      <td>2023-04-21</td>\n",
       "      <td>Bob</td>\n",
       "      <td>West</td>\n",
       "      <td>4384.02</td>\n",
       "      <td>17</td>\n",
       "      <td>Furniture</td>\n",
       "      <td>3816.39</td>\n",
       "      <td>4209.44</td>\n",
       "      <td>Returning</td>\n",
       "      <td>0.11</td>\n",
       "      <td>Cash</td>\n",
       "      <td>Retail</td>\n",
       "      <td>West-Bob</td>\n",
       "    </tr>\n",
       "    <tr>\n",
       "      <th>2</th>\n",
       "      <td>1015</td>\n",
       "      <td>2023-09-21</td>\n",
       "      <td>David</td>\n",
       "      <td>South</td>\n",
       "      <td>4631.23</td>\n",
       "      <td>30</td>\n",
       "      <td>Food</td>\n",
       "      <td>261.56</td>\n",
       "      <td>371.40</td>\n",
       "      <td>Returning</td>\n",
       "      <td>0.20</td>\n",
       "      <td>Bank Transfer</td>\n",
       "      <td>Retail</td>\n",
       "      <td>South-David</td>\n",
       "    </tr>\n",
       "    <tr>\n",
       "      <th>3</th>\n",
       "      <td>1072</td>\n",
       "      <td>2023-08-24</td>\n",
       "      <td>Bob</td>\n",
       "      <td>South</td>\n",
       "      <td>2167.94</td>\n",
       "      <td>39</td>\n",
       "      <td>Clothing</td>\n",
       "      <td>4330.03</td>\n",
       "      <td>4467.75</td>\n",
       "      <td>New</td>\n",
       "      <td>0.02</td>\n",
       "      <td>Credit Card</td>\n",
       "      <td>Retail</td>\n",
       "      <td>South-Bob</td>\n",
       "    </tr>\n",
       "    <tr>\n",
       "      <th>4</th>\n",
       "      <td>1061</td>\n",
       "      <td>2023-03-24</td>\n",
       "      <td>Charlie</td>\n",
       "      <td>East</td>\n",
       "      <td>3750.20</td>\n",
       "      <td>13</td>\n",
       "      <td>Electronics</td>\n",
       "      <td>637.37</td>\n",
       "      <td>692.71</td>\n",
       "      <td>New</td>\n",
       "      <td>0.08</td>\n",
       "      <td>Credit Card</td>\n",
       "      <td>Online</td>\n",
       "      <td>East-Charlie</td>\n",
       "    </tr>\n",
       "  </tbody>\n",
       "</table>\n",
       "</div>"
      ],
      "text/plain": [
       "   Product_ID   Sale_Date Sales_Rep Region  Sales_Amount  Quantity_Sold  \\\n",
       "0        1052  2023-02-03       Bob  North       5053.97             18   \n",
       "1        1093  2023-04-21       Bob   West       4384.02             17   \n",
       "2        1015  2023-09-21     David  South       4631.23             30   \n",
       "3        1072  2023-08-24       Bob  South       2167.94             39   \n",
       "4        1061  2023-03-24   Charlie   East       3750.20             13   \n",
       "\n",
       "  Product_Category  Unit_Cost  Unit_Price Customer_Type  Discount  \\\n",
       "0        Furniture     152.75      267.22     Returning      0.09   \n",
       "1        Furniture    3816.39     4209.44     Returning      0.11   \n",
       "2             Food     261.56      371.40     Returning      0.20   \n",
       "3         Clothing    4330.03     4467.75           New      0.02   \n",
       "4      Electronics     637.37      692.71           New      0.08   \n",
       "\n",
       "  Payment_Method Sales_Channel Region_and_Sales_Rep  \n",
       "0           Cash        Online            North-Bob  \n",
       "1           Cash        Retail             West-Bob  \n",
       "2  Bank Transfer        Retail          South-David  \n",
       "3    Credit Card        Retail            South-Bob  \n",
       "4    Credit Card        Online         East-Charlie  "
      ]
     },
     "execution_count": 17,
     "metadata": {},
     "output_type": "execute_result"
    }
   ],
   "source": [
    "df.head()"
   ]
  },
  {
   "cell_type": "code",
   "execution_count": 18,
   "id": "9785238a",
   "metadata": {
    "execution": {
     "iopub.execute_input": "2025-02-19T19:44:49.511482Z",
     "iopub.status.busy": "2025-02-19T19:44:49.511143Z",
     "iopub.status.idle": "2025-02-19T19:44:49.520202Z",
     "shell.execute_reply": "2025-02-19T19:44:49.519263Z"
    },
    "papermill": {
     "duration": 0.017823,
     "end_time": "2025-02-19T19:44:49.521608",
     "exception": false,
     "start_time": "2025-02-19T19:44:49.503785",
     "status": "completed"
    },
    "tags": []
   },
   "outputs": [
    {
     "data": {
      "text/plain": [
       "Product_Category\n",
       "Clothing       6922\n",
       "Furniture      6729\n",
       "Electronics    6096\n",
       "Food           5608\n",
       "Name: Quantity_Sold, dtype: int64"
      ]
     },
     "execution_count": 18,
     "metadata": {},
     "output_type": "execute_result"
    }
   ],
   "source": [
    "df.groupby('Product_Category')['Quantity_Sold'].sum().sort_values(ascending=False)"
   ]
  },
  {
   "cell_type": "markdown",
   "id": "20cc89ad",
   "metadata": {
    "papermill": {
     "duration": 0.00611,
     "end_time": "2025-02-19T19:44:49.534495",
     "exception": false,
     "start_time": "2025-02-19T19:44:49.528385",
     "status": "completed"
    },
    "tags": []
   },
   "source": [
    "- Cloth is the product that have most sales"
   ]
  },
  {
   "cell_type": "code",
   "execution_count": 19,
   "id": "8a68446f",
   "metadata": {
    "execution": {
     "iopub.execute_input": "2025-02-19T19:44:49.549164Z",
     "iopub.status.busy": "2025-02-19T19:44:49.548768Z",
     "iopub.status.idle": "2025-02-19T19:44:49.557090Z",
     "shell.execute_reply": "2025-02-19T19:44:49.556135Z"
    },
    "papermill": {
     "duration": 0.017666,
     "end_time": "2025-02-19T19:44:49.558618",
     "exception": false,
     "start_time": "2025-02-19T19:44:49.540952",
     "status": "completed"
    },
    "tags": []
   },
   "outputs": [
    {
     "data": {
      "text/plain": [
       "Customer_Type\n",
       "New          13184\n",
       "Returning    12171\n",
       "Name: Quantity_Sold, dtype: int64"
      ]
     },
     "execution_count": 19,
     "metadata": {},
     "output_type": "execute_result"
    }
   ],
   "source": [
    "df.groupby('Customer_Type')['Quantity_Sold'].sum().sort_values(ascending=False)"
   ]
  },
  {
   "cell_type": "code",
   "execution_count": 20,
   "id": "49eab1f9",
   "metadata": {
    "execution": {
     "iopub.execute_input": "2025-02-19T19:44:49.573820Z",
     "iopub.status.busy": "2025-02-19T19:44:49.573437Z",
     "iopub.status.idle": "2025-02-19T19:44:49.583086Z",
     "shell.execute_reply": "2025-02-19T19:44:49.581654Z"
    },
    "papermill": {
     "duration": 0.018967,
     "end_time": "2025-02-19T19:44:49.584718",
     "exception": false,
     "start_time": "2025-02-19T19:44:49.565751",
     "status": "completed"
    },
    "tags": []
   },
   "outputs": [
    {
     "data": {
      "text/plain": [
       "Payment_Method\n",
       "Bank Transfer    8696\n",
       "Credit Card      8441\n",
       "Cash             8218\n",
       "Name: Quantity_Sold, dtype: int64"
      ]
     },
     "execution_count": 20,
     "metadata": {},
     "output_type": "execute_result"
    }
   ],
   "source": [
    "df.groupby('Payment_Method')['Quantity_Sold'].sum().sort_values(ascending=False)"
   ]
  },
  {
   "cell_type": "code",
   "execution_count": 21,
   "id": "ef04be9d",
   "metadata": {
    "execution": {
     "iopub.execute_input": "2025-02-19T19:44:49.599834Z",
     "iopub.status.busy": "2025-02-19T19:44:49.599411Z",
     "iopub.status.idle": "2025-02-19T19:44:49.607151Z",
     "shell.execute_reply": "2025-02-19T19:44:49.606265Z"
    },
    "papermill": {
     "duration": 0.016168,
     "end_time": "2025-02-19T19:44:49.608143",
     "exception": false,
     "start_time": "2025-02-19T19:44:49.591975",
     "status": "completed"
    },
    "tags": []
   },
   "outputs": [
    {
     "data": {
      "text/plain": [
       "Sales_Channel\n",
       "Retail    12753\n",
       "Online    12602\n",
       "Name: Quantity_Sold, dtype: int64"
      ]
     },
     "execution_count": 21,
     "metadata": {},
     "output_type": "execute_result"
    }
   ],
   "source": [
    "df.groupby('Sales_Channel')['Quantity_Sold'].sum().sort_values(ascending=False)"
   ]
  },
  {
   "cell_type": "code",
   "execution_count": 22,
   "id": "1036c0f2",
   "metadata": {
    "execution": {
     "iopub.execute_input": "2025-02-19T19:44:49.622648Z",
     "iopub.status.busy": "2025-02-19T19:44:49.622179Z",
     "iopub.status.idle": "2025-02-19T19:44:49.630752Z",
     "shell.execute_reply": "2025-02-19T19:44:49.629862Z"
    },
    "papermill": {
     "duration": 0.01705,
     "end_time": "2025-02-19T19:44:49.632021",
     "exception": false,
     "start_time": "2025-02-19T19:44:49.614971",
     "status": "completed"
    },
    "tags": []
   },
   "outputs": [
    {
     "data": {
      "text/plain": [
       "Product_Category\n",
       "Clothing       42.94\n",
       "Furniture      41.11\n",
       "Food           34.76\n",
       "Electronics    33.58\n",
       "Name: Discount, dtype: float64"
      ]
     },
     "execution_count": 22,
     "metadata": {},
     "output_type": "execute_result"
    }
   ],
   "source": [
    "df.groupby('Product_Category')['Discount'].sum().sort_values(ascending=False)"
   ]
  },
  {
   "cell_type": "code",
   "execution_count": 23,
   "id": "18c60754",
   "metadata": {
    "execution": {
     "iopub.execute_input": "2025-02-19T19:44:49.646651Z",
     "iopub.status.busy": "2025-02-19T19:44:49.646213Z",
     "iopub.status.idle": "2025-02-19T19:44:49.663297Z",
     "shell.execute_reply": "2025-02-19T19:44:49.662273Z"
    },
    "papermill": {
     "duration": 0.026625,
     "end_time": "2025-02-19T19:44:49.665397",
     "exception": false,
     "start_time": "2025-02-19T19:44:49.638772",
     "status": "completed"
    },
    "tags": []
   },
   "outputs": [
    {
     "data": {
      "text/html": [
       "<div>\n",
       "<style scoped>\n",
       "    .dataframe tbody tr th:only-of-type {\n",
       "        vertical-align: middle;\n",
       "    }\n",
       "\n",
       "    .dataframe tbody tr th {\n",
       "        vertical-align: top;\n",
       "    }\n",
       "\n",
       "    .dataframe thead th {\n",
       "        text-align: right;\n",
       "    }\n",
       "</style>\n",
       "<table border=\"1\" class=\"dataframe\">\n",
       "  <thead>\n",
       "    <tr style=\"text-align: right;\">\n",
       "      <th></th>\n",
       "      <th>Unit_Price</th>\n",
       "      <th>Unit_Cost</th>\n",
       "    </tr>\n",
       "  </thead>\n",
       "  <tbody>\n",
       "    <tr>\n",
       "      <th>count</th>\n",
       "      <td>1000.000000</td>\n",
       "      <td>1000.000000</td>\n",
       "    </tr>\n",
       "    <tr>\n",
       "      <th>mean</th>\n",
       "      <td>2728.440120</td>\n",
       "      <td>2475.304550</td>\n",
       "    </tr>\n",
       "    <tr>\n",
       "      <th>std</th>\n",
       "      <td>1419.399839</td>\n",
       "      <td>1417.872546</td>\n",
       "    </tr>\n",
       "    <tr>\n",
       "      <th>min</th>\n",
       "      <td>167.120000</td>\n",
       "      <td>60.280000</td>\n",
       "    </tr>\n",
       "    <tr>\n",
       "      <th>25%</th>\n",
       "      <td>1509.085000</td>\n",
       "      <td>1238.380000</td>\n",
       "    </tr>\n",
       "    <tr>\n",
       "      <th>50%</th>\n",
       "      <td>2696.400000</td>\n",
       "      <td>2467.235000</td>\n",
       "    </tr>\n",
       "    <tr>\n",
       "      <th>75%</th>\n",
       "      <td>3957.970000</td>\n",
       "      <td>3702.865000</td>\n",
       "    </tr>\n",
       "    <tr>\n",
       "      <th>max</th>\n",
       "      <td>5442.150000</td>\n",
       "      <td>4995.300000</td>\n",
       "    </tr>\n",
       "  </tbody>\n",
       "</table>\n",
       "</div>"
      ],
      "text/plain": [
       "        Unit_Price    Unit_Cost\n",
       "count  1000.000000  1000.000000\n",
       "mean   2728.440120  2475.304550\n",
       "std    1419.399839  1417.872546\n",
       "min     167.120000    60.280000\n",
       "25%    1509.085000  1238.380000\n",
       "50%    2696.400000  2467.235000\n",
       "75%    3957.970000  3702.865000\n",
       "max    5442.150000  4995.300000"
      ]
     },
     "execution_count": 23,
     "metadata": {},
     "output_type": "execute_result"
    }
   ],
   "source": [
    "df[['Unit_Price', 'Unit_Cost']].describe()"
   ]
  },
  {
   "cell_type": "code",
   "execution_count": 24,
   "id": "42425e33",
   "metadata": {
    "execution": {
     "iopub.execute_input": "2025-02-19T19:44:49.681957Z",
     "iopub.status.busy": "2025-02-19T19:44:49.681615Z",
     "iopub.status.idle": "2025-02-19T19:44:49.687305Z",
     "shell.execute_reply": "2025-02-19T19:44:49.686215Z"
    },
    "papermill": {
     "duration": 0.015227,
     "end_time": "2025-02-19T19:44:49.688691",
     "exception": false,
     "start_time": "2025-02-19T19:44:49.673464",
     "status": "completed"
    },
    "tags": []
   },
   "outputs": [],
   "source": [
    "df['Profit_Per_Unit'] = df['Unit_Price'] - df['Unit_Cost']"
   ]
  },
  {
   "cell_type": "code",
   "execution_count": 25,
   "id": "cf70b9c5",
   "metadata": {
    "execution": {
     "iopub.execute_input": "2025-02-19T19:44:49.705451Z",
     "iopub.status.busy": "2025-02-19T19:44:49.705112Z",
     "iopub.status.idle": "2025-02-19T19:44:49.717347Z",
     "shell.execute_reply": "2025-02-19T19:44:49.715827Z"
    },
    "papermill": {
     "duration": 0.0222,
     "end_time": "2025-02-19T19:44:49.719042",
     "exception": false,
     "start_time": "2025-02-19T19:44:49.696842",
     "status": "completed"
    },
    "tags": []
   },
   "outputs": [
    {
     "data": {
      "text/html": [
       "<div>\n",
       "<style scoped>\n",
       "    .dataframe tbody tr th:only-of-type {\n",
       "        vertical-align: middle;\n",
       "    }\n",
       "\n",
       "    .dataframe tbody tr th {\n",
       "        vertical-align: top;\n",
       "    }\n",
       "\n",
       "    .dataframe thead th {\n",
       "        text-align: right;\n",
       "    }\n",
       "</style>\n",
       "<table border=\"1\" class=\"dataframe\">\n",
       "  <thead>\n",
       "    <tr style=\"text-align: right;\">\n",
       "      <th></th>\n",
       "      <th>Unit_Price</th>\n",
       "      <th>Unit_Cost</th>\n",
       "      <th>Profit_Per_Unit</th>\n",
       "    </tr>\n",
       "  </thead>\n",
       "  <tbody>\n",
       "    <tr>\n",
       "      <th>0</th>\n",
       "      <td>267.22</td>\n",
       "      <td>152.75</td>\n",
       "      <td>114.47</td>\n",
       "    </tr>\n",
       "    <tr>\n",
       "      <th>1</th>\n",
       "      <td>4209.44</td>\n",
       "      <td>3816.39</td>\n",
       "      <td>393.05</td>\n",
       "    </tr>\n",
       "    <tr>\n",
       "      <th>2</th>\n",
       "      <td>371.40</td>\n",
       "      <td>261.56</td>\n",
       "      <td>109.84</td>\n",
       "    </tr>\n",
       "    <tr>\n",
       "      <th>3</th>\n",
       "      <td>4467.75</td>\n",
       "      <td>4330.03</td>\n",
       "      <td>137.72</td>\n",
       "    </tr>\n",
       "    <tr>\n",
       "      <th>4</th>\n",
       "      <td>692.71</td>\n",
       "      <td>637.37</td>\n",
       "      <td>55.34</td>\n",
       "    </tr>\n",
       "    <tr>\n",
       "      <th>...</th>\n",
       "      <td>...</td>\n",
       "      <td>...</td>\n",
       "      <td>...</td>\n",
       "    </tr>\n",
       "    <tr>\n",
       "      <th>995</th>\n",
       "      <td>5442.15</td>\n",
       "      <td>4943.03</td>\n",
       "      <td>499.12</td>\n",
       "    </tr>\n",
       "    <tr>\n",
       "      <th>996</th>\n",
       "      <td>1856.40</td>\n",
       "      <td>1754.32</td>\n",
       "      <td>102.08</td>\n",
       "    </tr>\n",
       "    <tr>\n",
       "      <th>997</th>\n",
       "      <td>438.27</td>\n",
       "      <td>355.72</td>\n",
       "      <td>82.55</td>\n",
       "    </tr>\n",
       "    <tr>\n",
       "      <th>998</th>\n",
       "      <td>3743.39</td>\n",
       "      <td>3685.03</td>\n",
       "      <td>58.36</td>\n",
       "    </tr>\n",
       "    <tr>\n",
       "      <th>999</th>\n",
       "      <td>2926.68</td>\n",
       "      <td>2632.58</td>\n",
       "      <td>294.10</td>\n",
       "    </tr>\n",
       "  </tbody>\n",
       "</table>\n",
       "<p>1000 rows × 3 columns</p>\n",
       "</div>"
      ],
      "text/plain": [
       "     Unit_Price  Unit_Cost  Profit_Per_Unit\n",
       "0        267.22     152.75           114.47\n",
       "1       4209.44    3816.39           393.05\n",
       "2        371.40     261.56           109.84\n",
       "3       4467.75    4330.03           137.72\n",
       "4        692.71     637.37            55.34\n",
       "..          ...        ...              ...\n",
       "995     5442.15    4943.03           499.12\n",
       "996     1856.40    1754.32           102.08\n",
       "997      438.27     355.72            82.55\n",
       "998     3743.39    3685.03            58.36\n",
       "999     2926.68    2632.58           294.10\n",
       "\n",
       "[1000 rows x 3 columns]"
      ]
     },
     "execution_count": 25,
     "metadata": {},
     "output_type": "execute_result"
    }
   ],
   "source": [
    "df[['Unit_Price', 'Unit_Cost', 'Profit_Per_Unit']]"
   ]
  },
  {
   "cell_type": "code",
   "execution_count": 26,
   "id": "15b8fcdf",
   "metadata": {
    "execution": {
     "iopub.execute_input": "2025-02-19T19:44:49.735078Z",
     "iopub.status.busy": "2025-02-19T19:44:49.734726Z",
     "iopub.status.idle": "2025-02-19T19:44:49.752300Z",
     "shell.execute_reply": "2025-02-19T19:44:49.751183Z"
    },
    "papermill": {
     "duration": 0.026839,
     "end_time": "2025-02-19T19:44:49.753736",
     "exception": false,
     "start_time": "2025-02-19T19:44:49.726897",
     "status": "completed"
    },
    "tags": []
   },
   "outputs": [
    {
     "data": {
      "text/html": [
       "<div>\n",
       "<style scoped>\n",
       "    .dataframe tbody tr th:only-of-type {\n",
       "        vertical-align: middle;\n",
       "    }\n",
       "\n",
       "    .dataframe tbody tr th {\n",
       "        vertical-align: top;\n",
       "    }\n",
       "\n",
       "    .dataframe thead th {\n",
       "        text-align: right;\n",
       "    }\n",
       "</style>\n",
       "<table border=\"1\" class=\"dataframe\">\n",
       "  <thead>\n",
       "    <tr style=\"text-align: right;\">\n",
       "      <th></th>\n",
       "      <th>Unit_Price</th>\n",
       "      <th>Unit_Cost</th>\n",
       "      <th>Profit_Per_Unit</th>\n",
       "    </tr>\n",
       "  </thead>\n",
       "  <tbody>\n",
       "    <tr>\n",
       "      <th>count</th>\n",
       "      <td>1000.000000</td>\n",
       "      <td>1000.000000</td>\n",
       "      <td>1000.000000</td>\n",
       "    </tr>\n",
       "    <tr>\n",
       "      <th>mean</th>\n",
       "      <td>2728.440120</td>\n",
       "      <td>2475.304550</td>\n",
       "      <td>253.135570</td>\n",
       "    </tr>\n",
       "    <tr>\n",
       "      <th>std</th>\n",
       "      <td>1419.399839</td>\n",
       "      <td>1417.872546</td>\n",
       "      <td>141.081466</td>\n",
       "    </tr>\n",
       "    <tr>\n",
       "      <th>min</th>\n",
       "      <td>167.120000</td>\n",
       "      <td>60.280000</td>\n",
       "      <td>10.310000</td>\n",
       "    </tr>\n",
       "    <tr>\n",
       "      <th>25%</th>\n",
       "      <td>1509.085000</td>\n",
       "      <td>1238.380000</td>\n",
       "      <td>133.647500</td>\n",
       "    </tr>\n",
       "    <tr>\n",
       "      <th>50%</th>\n",
       "      <td>2696.400000</td>\n",
       "      <td>2467.235000</td>\n",
       "      <td>256.525000</td>\n",
       "    </tr>\n",
       "    <tr>\n",
       "      <th>75%</th>\n",
       "      <td>3957.970000</td>\n",
       "      <td>3702.865000</td>\n",
       "      <td>367.607500</td>\n",
       "    </tr>\n",
       "    <tr>\n",
       "      <th>max</th>\n",
       "      <td>5442.150000</td>\n",
       "      <td>4995.300000</td>\n",
       "      <td>499.930000</td>\n",
       "    </tr>\n",
       "  </tbody>\n",
       "</table>\n",
       "</div>"
      ],
      "text/plain": [
       "        Unit_Price    Unit_Cost  Profit_Per_Unit\n",
       "count  1000.000000  1000.000000      1000.000000\n",
       "mean   2728.440120  2475.304550       253.135570\n",
       "std    1419.399839  1417.872546       141.081466\n",
       "min     167.120000    60.280000        10.310000\n",
       "25%    1509.085000  1238.380000       133.647500\n",
       "50%    2696.400000  2467.235000       256.525000\n",
       "75%    3957.970000  3702.865000       367.607500\n",
       "max    5442.150000  4995.300000       499.930000"
      ]
     },
     "execution_count": 26,
     "metadata": {},
     "output_type": "execute_result"
    }
   ],
   "source": [
    "df[['Unit_Price', 'Unit_Cost', 'Profit_Per_Unit']].describe()"
   ]
  },
  {
   "cell_type": "markdown",
   "id": "7d6ee3da",
   "metadata": {
    "papermill": {
     "duration": 0.007106,
     "end_time": "2025-02-19T19:44:49.768741",
     "exception": false,
     "start_time": "2025-02-19T19:44:49.761635",
     "status": "completed"
    },
    "tags": []
   },
   "source": [
    "- The sales have a profit mean of 253,13"
   ]
  },
  {
   "cell_type": "code",
   "execution_count": 27,
   "id": "f418794b",
   "metadata": {
    "execution": {
     "iopub.execute_input": "2025-02-19T19:44:49.784414Z",
     "iopub.status.busy": "2025-02-19T19:44:49.784077Z",
     "iopub.status.idle": "2025-02-19T19:44:49.796180Z",
     "shell.execute_reply": "2025-02-19T19:44:49.795361Z"
    },
    "papermill": {
     "duration": 0.021591,
     "end_time": "2025-02-19T19:44:49.797401",
     "exception": false,
     "start_time": "2025-02-19T19:44:49.775810",
     "status": "completed"
    },
    "tags": []
   },
   "outputs": [
    {
     "data": {
      "text/html": [
       "<div>\n",
       "<style scoped>\n",
       "    .dataframe tbody tr th:only-of-type {\n",
       "        vertical-align: middle;\n",
       "    }\n",
       "\n",
       "    .dataframe tbody tr th {\n",
       "        vertical-align: top;\n",
       "    }\n",
       "\n",
       "    .dataframe thead th {\n",
       "        text-align: right;\n",
       "    }\n",
       "</style>\n",
       "<table border=\"1\" class=\"dataframe\">\n",
       "  <thead>\n",
       "    <tr style=\"text-align: right;\">\n",
       "      <th></th>\n",
       "      <th>Product_ID</th>\n",
       "      <th>Sale_Date</th>\n",
       "      <th>Sales_Rep</th>\n",
       "      <th>Region</th>\n",
       "      <th>Sales_Amount</th>\n",
       "      <th>Quantity_Sold</th>\n",
       "      <th>Product_Category</th>\n",
       "      <th>Unit_Cost</th>\n",
       "      <th>Unit_Price</th>\n",
       "      <th>Customer_Type</th>\n",
       "      <th>Discount</th>\n",
       "      <th>Payment_Method</th>\n",
       "      <th>Sales_Channel</th>\n",
       "      <th>Region_and_Sales_Rep</th>\n",
       "      <th>Profit_Per_Unit</th>\n",
       "    </tr>\n",
       "  </thead>\n",
       "  <tbody>\n",
       "    <tr>\n",
       "      <th>0</th>\n",
       "      <td>1052</td>\n",
       "      <td>2023-02-03</td>\n",
       "      <td>Bob</td>\n",
       "      <td>North</td>\n",
       "      <td>5053.97</td>\n",
       "      <td>18</td>\n",
       "      <td>Furniture</td>\n",
       "      <td>152.75</td>\n",
       "      <td>267.22</td>\n",
       "      <td>Returning</td>\n",
       "      <td>0.09</td>\n",
       "      <td>Cash</td>\n",
       "      <td>Online</td>\n",
       "      <td>North-Bob</td>\n",
       "      <td>114.47</td>\n",
       "    </tr>\n",
       "    <tr>\n",
       "      <th>1</th>\n",
       "      <td>1093</td>\n",
       "      <td>2023-04-21</td>\n",
       "      <td>Bob</td>\n",
       "      <td>West</td>\n",
       "      <td>4384.02</td>\n",
       "      <td>17</td>\n",
       "      <td>Furniture</td>\n",
       "      <td>3816.39</td>\n",
       "      <td>4209.44</td>\n",
       "      <td>Returning</td>\n",
       "      <td>0.11</td>\n",
       "      <td>Cash</td>\n",
       "      <td>Retail</td>\n",
       "      <td>West-Bob</td>\n",
       "      <td>393.05</td>\n",
       "    </tr>\n",
       "  </tbody>\n",
       "</table>\n",
       "</div>"
      ],
      "text/plain": [
       "   Product_ID   Sale_Date Sales_Rep Region  Sales_Amount  Quantity_Sold  \\\n",
       "0        1052  2023-02-03       Bob  North       5053.97             18   \n",
       "1        1093  2023-04-21       Bob   West       4384.02             17   \n",
       "\n",
       "  Product_Category  Unit_Cost  Unit_Price Customer_Type  Discount  \\\n",
       "0        Furniture     152.75      267.22     Returning      0.09   \n",
       "1        Furniture    3816.39     4209.44     Returning      0.11   \n",
       "\n",
       "  Payment_Method Sales_Channel Region_and_Sales_Rep  Profit_Per_Unit  \n",
       "0           Cash        Online            North-Bob           114.47  \n",
       "1           Cash        Retail             West-Bob           393.05  "
      ]
     },
     "execution_count": 27,
     "metadata": {},
     "output_type": "execute_result"
    }
   ],
   "source": [
    "df.head(2)"
   ]
  },
  {
   "cell_type": "code",
   "execution_count": 28,
   "id": "fff20332",
   "metadata": {
    "execution": {
     "iopub.execute_input": "2025-02-19T19:44:49.813257Z",
     "iopub.status.busy": "2025-02-19T19:44:49.812941Z",
     "iopub.status.idle": "2025-02-19T19:44:51.256818Z",
     "shell.execute_reply": "2025-02-19T19:44:51.255879Z"
    },
    "papermill": {
     "duration": 1.453712,
     "end_time": "2025-02-19T19:44:51.258720",
     "exception": false,
     "start_time": "2025-02-19T19:44:49.805008",
     "status": "completed"
    },
    "tags": []
   },
   "outputs": [],
   "source": [
    "import matplotlib.pyplot as plt\n",
    "import seaborn as sns"
   ]
  },
  {
   "cell_type": "code",
   "execution_count": 29,
   "id": "cf78392e",
   "metadata": {
    "execution": {
     "iopub.execute_input": "2025-02-19T19:44:51.275374Z",
     "iopub.status.busy": "2025-02-19T19:44:51.274732Z",
     "iopub.status.idle": "2025-02-19T19:44:51.279480Z",
     "shell.execute_reply": "2025-02-19T19:44:51.278573Z"
    },
    "papermill": {
     "duration": 0.014451,
     "end_time": "2025-02-19T19:44:51.280802",
     "exception": false,
     "start_time": "2025-02-19T19:44:51.266351",
     "status": "completed"
    },
    "tags": []
   },
   "outputs": [],
   "source": [
    "import warnings\n",
    "warnings.filterwarnings('ignore')"
   ]
  },
  {
   "cell_type": "code",
   "execution_count": 30,
   "id": "49d75a6d",
   "metadata": {
    "execution": {
     "iopub.execute_input": "2025-02-19T19:44:51.297202Z",
     "iopub.status.busy": "2025-02-19T19:44:51.296733Z",
     "iopub.status.idle": "2025-02-19T19:44:51.737954Z",
     "shell.execute_reply": "2025-02-19T19:44:51.736919Z"
    },
    "papermill": {
     "duration": 0.451045,
     "end_time": "2025-02-19T19:44:51.739490",
     "exception": false,
     "start_time": "2025-02-19T19:44:51.288445",
     "status": "completed"
    },
    "tags": []
   },
   "outputs": [
    {
     "data": {
      "text/plain": [
       "Text(0.5, 1.0, 'Sales Distribution by Representative and Region')"
      ]
     },
     "execution_count": 30,
     "metadata": {},
     "output_type": "execute_result"
    },
    {
     "data": {
      "image/png": "[encoded data removed]",
      "text/plain": [
       "<Figure size 1500x700 with 2 Axes>"
      ]
     },
     "metadata": {},
     "output_type": "display_data"
    }
   ],
   "source": [
    "fig, axs = plt.subplots(1, 2, figsize=(15, 7))\n",
    "plt.subplot(121)\n",
    "sns.countplot(data=df, x='Sales_Rep', ax=axs[0])\n",
    "axs[0].set_title(\"Sales Distribution by Representative\")\n",
    "\n",
    "sns.countplot(data=df, x='Sales_Rep', hue='Region', ax=axs[1])\n",
    "axs[1].set_title(\"Sales Distribution by Representative and Region\")"
   ]
  },
  {
   "cell_type": "code",
   "execution_count": 31,
   "id": "14131d25",
   "metadata": {
    "execution": {
     "iopub.execute_input": "2025-02-19T19:44:51.757689Z",
     "iopub.status.busy": "2025-02-19T19:44:51.757226Z",
     "iopub.status.idle": "2025-02-19T19:44:51.980138Z",
     "shell.execute_reply": "2025-02-19T19:44:51.978988Z"
    },
    "papermill": {
     "duration": 0.233804,
     "end_time": "2025-02-19T19:44:51.981862",
     "exception": false,
     "start_time": "2025-02-19T19:44:51.748058",
     "status": "completed"
    },
    "tags": []
   },
   "outputs": [
    {
     "data": {
      "text/plain": [
       "<Axes: xlabel='Sale_Date'>"
      ]
     },
     "execution_count": 31,
     "metadata": {},
     "output_type": "execute_result"
    },
    {
     "data": {
      "image/png": "[encoded data removed]",
      "text/plain": [
       "<Figure size 640x480 with 1 Axes>"
      ]
     },
     "metadata": {},
     "output_type": "display_data"
    }
   ],
   "source": [
    "#Sales Amount per Date\n",
    "df['Sale_Date'] = pd.to_datetime(df['Sale_Date'])\n",
    "df.set_index('Sale_Date').resample('M')['Sales_Amount'].sum().plot()"
   ]
  },
  {
   "cell_type": "code",
   "execution_count": 32,
   "id": "fbde46d8",
   "metadata": {
    "execution": {
     "iopub.execute_input": "2025-02-19T19:44:52.001601Z",
     "iopub.status.busy": "2025-02-19T19:44:52.001194Z",
     "iopub.status.idle": "2025-02-19T19:44:52.244040Z",
     "shell.execute_reply": "2025-02-19T19:44:52.243026Z"
    },
    "papermill": {
     "duration": 0.254544,
     "end_time": "2025-02-19T19:44:52.245341",
     "exception": false,
     "start_time": "2025-02-19T19:44:51.990797",
     "status": "completed"
    },
    "tags": []
   },
   "outputs": [
    {
     "data": {
      "text/plain": [
       "<Axes: >"
      ]
     },
     "execution_count": 32,
     "metadata": {},
     "output_type": "execute_result"
    },
    {
     "data": {
      "image/png": "[encoded data removed]",
      "text/plain": [
       "<Figure size 640x480 with 2 Axes>"
      ]
     },
     "metadata": {},
     "output_type": "display_data"
    }
   ],
   "source": [
    "sns.heatmap(df[numeric_features].corr(), annot=True, cmap=\"coolwarm\")"
   ]
  },
  {
   "cell_type": "code",
   "execution_count": null,
   "id": "946e3ed3",
   "metadata": {
    "papermill": {
     "duration": 0.008443,
     "end_time": "2025-02-19T19:44:52.263020",
     "exception": false,
     "start_time": "2025-02-19T19:44:52.254577",
     "status": "completed"
    },
    "tags": []
   },
   "outputs": [],
   "source": []
  }
 ],
 "metadata": {
  "kaggle": {
   "accelerator": "none",
   "dataSources": [
    {
     "datasetId": 6688404,
     "sourceId": 10779441,
     "sourceType": "datasetVersion"
    }
   ],
   "dockerImageVersionId": 30886,
   "isGpuEnabled": false,
   "isInternetEnabled": true,
   "language": "python",
   "sourceType": "notebook"
  },
  "kernelspec": {
   "display_name": "Python 3",
   "language": "python",
   "name": "python3"
  },
  "language_info": {
   "codemirror_mode": {
    "name": "ipython",
    "version": 3
   },
   "file_extension": ".py",
   "mimetype": "text/x-python",
   "name": "python",
   "nbconvert_exporter": "python",
   "pygments_lexer": "ipython3",
   "version": "3.10.12"
  },
  "papermill": {
   "default_parameters": {},
   "duration": 7.333514,
   "end_time": "2025-02-19T19:44:53.193902",
   "environment_variables": {},
   "exception": null,
   "input_path": "__notebook__.ipynb",
   "output_path": "__notebook__.ipynb",
   "parameters": {},
   "start_time": "2025-02-19T19:44:45.860388",
   "version": "2.6.0"
  }
 },
 "nbformat": 4,
 "nbformat_minor": 5
}
